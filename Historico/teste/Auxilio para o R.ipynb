{
 "cells": [
  {
   "cell_type": "code",
   "execution_count": 1,
   "id": "6b26fb94",
   "metadata": {
    "scrolled": false
   },
   "outputs": [
    {
     "ename": "FileNotFoundError",
     "evalue": "[Errno 2] No such file or directory: 'BANCO QUADRIL - dezembro 2021.xlsx'",
     "output_type": "error",
     "traceback": [
      "\u001b[1;31m---------------------------------------------------------------------------\u001b[0m",
      "\u001b[1;31mFileNotFoundError\u001b[0m                         Traceback (most recent call last)",
      "\u001b[1;32m~\\AppData\\Local\\Temp/ipykernel_7160/2130728417.py\u001b[0m in \u001b[0;36m<module>\u001b[1;34m\u001b[0m\n\u001b[0;32m      2\u001b[0m \u001b[1;32mimport\u001b[0m \u001b[0mnumpy\u001b[0m \u001b[1;32mas\u001b[0m \u001b[0mnp\u001b[0m \u001b[1;31m#matematica\u001b[0m\u001b[1;33m\u001b[0m\u001b[1;33m\u001b[0m\u001b[0m\n\u001b[0;32m      3\u001b[0m \u001b[1;33m\u001b[0m\u001b[0m\n\u001b[1;32m----> 4\u001b[1;33m \u001b[0mbase\u001b[0m \u001b[1;33m=\u001b[0m \u001b[0mpd\u001b[0m\u001b[1;33m.\u001b[0m\u001b[0mread_excel\u001b[0m\u001b[1;33m(\u001b[0m\u001b[1;34m'BANCO QUADRIL - dezembro 2021.xlsx'\u001b[0m\u001b[1;33m)\u001b[0m\u001b[1;33m\u001b[0m\u001b[1;33m\u001b[0m\u001b[0m\n\u001b[0m\u001b[0;32m      5\u001b[0m \u001b[1;33m\u001b[0m\u001b[0m\n\u001b[0;32m      6\u001b[0m \u001b[0mbase\u001b[0m\u001b[1;33m.\u001b[0m\u001b[0mhead\u001b[0m\u001b[1;33m(\u001b[0m\u001b[1;33m)\u001b[0m\u001b[1;33m\u001b[0m\u001b[1;33m\u001b[0m\u001b[0m\n",
      "\u001b[1;32m~\\anaconda3\\lib\\site-packages\\pandas\\util\\_decorators.py\u001b[0m in \u001b[0;36mwrapper\u001b[1;34m(*args, **kwargs)\u001b[0m\n\u001b[0;32m    309\u001b[0m                     \u001b[0mstacklevel\u001b[0m\u001b[1;33m=\u001b[0m\u001b[0mstacklevel\u001b[0m\u001b[1;33m,\u001b[0m\u001b[1;33m\u001b[0m\u001b[1;33m\u001b[0m\u001b[0m\n\u001b[0;32m    310\u001b[0m                 )\n\u001b[1;32m--> 311\u001b[1;33m             \u001b[1;32mreturn\u001b[0m \u001b[0mfunc\u001b[0m\u001b[1;33m(\u001b[0m\u001b[1;33m*\u001b[0m\u001b[0margs\u001b[0m\u001b[1;33m,\u001b[0m \u001b[1;33m**\u001b[0m\u001b[0mkwargs\u001b[0m\u001b[1;33m)\u001b[0m\u001b[1;33m\u001b[0m\u001b[1;33m\u001b[0m\u001b[0m\n\u001b[0m\u001b[0;32m    312\u001b[0m \u001b[1;33m\u001b[0m\u001b[0m\n\u001b[0;32m    313\u001b[0m         \u001b[1;32mreturn\u001b[0m \u001b[0mwrapper\u001b[0m\u001b[1;33m\u001b[0m\u001b[1;33m\u001b[0m\u001b[0m\n",
      "\u001b[1;32m~\\anaconda3\\lib\\site-packages\\pandas\\io\\excel\\_base.py\u001b[0m in \u001b[0;36mread_excel\u001b[1;34m(io, sheet_name, header, names, index_col, usecols, squeeze, dtype, engine, converters, true_values, false_values, skiprows, nrows, na_values, keep_default_na, na_filter, verbose, parse_dates, date_parser, thousands, comment, skipfooter, convert_float, mangle_dupe_cols, storage_options)\u001b[0m\n\u001b[0;32m    362\u001b[0m     \u001b[1;32mif\u001b[0m \u001b[1;32mnot\u001b[0m \u001b[0misinstance\u001b[0m\u001b[1;33m(\u001b[0m\u001b[0mio\u001b[0m\u001b[1;33m,\u001b[0m \u001b[0mExcelFile\u001b[0m\u001b[1;33m)\u001b[0m\u001b[1;33m:\u001b[0m\u001b[1;33m\u001b[0m\u001b[1;33m\u001b[0m\u001b[0m\n\u001b[0;32m    363\u001b[0m         \u001b[0mshould_close\u001b[0m \u001b[1;33m=\u001b[0m \u001b[1;32mTrue\u001b[0m\u001b[1;33m\u001b[0m\u001b[1;33m\u001b[0m\u001b[0m\n\u001b[1;32m--> 364\u001b[1;33m         \u001b[0mio\u001b[0m \u001b[1;33m=\u001b[0m \u001b[0mExcelFile\u001b[0m\u001b[1;33m(\u001b[0m\u001b[0mio\u001b[0m\u001b[1;33m,\u001b[0m \u001b[0mstorage_options\u001b[0m\u001b[1;33m=\u001b[0m\u001b[0mstorage_options\u001b[0m\u001b[1;33m,\u001b[0m \u001b[0mengine\u001b[0m\u001b[1;33m=\u001b[0m\u001b[0mengine\u001b[0m\u001b[1;33m)\u001b[0m\u001b[1;33m\u001b[0m\u001b[1;33m\u001b[0m\u001b[0m\n\u001b[0m\u001b[0;32m    365\u001b[0m     \u001b[1;32melif\u001b[0m \u001b[0mengine\u001b[0m \u001b[1;32mand\u001b[0m \u001b[0mengine\u001b[0m \u001b[1;33m!=\u001b[0m \u001b[0mio\u001b[0m\u001b[1;33m.\u001b[0m\u001b[0mengine\u001b[0m\u001b[1;33m:\u001b[0m\u001b[1;33m\u001b[0m\u001b[1;33m\u001b[0m\u001b[0m\n\u001b[0;32m    366\u001b[0m         raise ValueError(\n",
      "\u001b[1;32m~\\anaconda3\\lib\\site-packages\\pandas\\io\\excel\\_base.py\u001b[0m in \u001b[0;36m__init__\u001b[1;34m(self, path_or_buffer, engine, storage_options)\u001b[0m\n\u001b[0;32m   1189\u001b[0m                 \u001b[0mext\u001b[0m \u001b[1;33m=\u001b[0m \u001b[1;34m\"xls\"\u001b[0m\u001b[1;33m\u001b[0m\u001b[1;33m\u001b[0m\u001b[0m\n\u001b[0;32m   1190\u001b[0m             \u001b[1;32melse\u001b[0m\u001b[1;33m:\u001b[0m\u001b[1;33m\u001b[0m\u001b[1;33m\u001b[0m\u001b[0m\n\u001b[1;32m-> 1191\u001b[1;33m                 ext = inspect_excel_format(\n\u001b[0m\u001b[0;32m   1192\u001b[0m                     \u001b[0mcontent_or_path\u001b[0m\u001b[1;33m=\u001b[0m\u001b[0mpath_or_buffer\u001b[0m\u001b[1;33m,\u001b[0m \u001b[0mstorage_options\u001b[0m\u001b[1;33m=\u001b[0m\u001b[0mstorage_options\u001b[0m\u001b[1;33m\u001b[0m\u001b[1;33m\u001b[0m\u001b[0m\n\u001b[0;32m   1193\u001b[0m                 )\n",
      "\u001b[1;32m~\\anaconda3\\lib\\site-packages\\pandas\\io\\excel\\_base.py\u001b[0m in \u001b[0;36minspect_excel_format\u001b[1;34m(content_or_path, storage_options)\u001b[0m\n\u001b[0;32m   1068\u001b[0m         \u001b[0mcontent_or_path\u001b[0m \u001b[1;33m=\u001b[0m \u001b[0mBytesIO\u001b[0m\u001b[1;33m(\u001b[0m\u001b[0mcontent_or_path\u001b[0m\u001b[1;33m)\u001b[0m\u001b[1;33m\u001b[0m\u001b[1;33m\u001b[0m\u001b[0m\n\u001b[0;32m   1069\u001b[0m \u001b[1;33m\u001b[0m\u001b[0m\n\u001b[1;32m-> 1070\u001b[1;33m     with get_handle(\n\u001b[0m\u001b[0;32m   1071\u001b[0m         \u001b[0mcontent_or_path\u001b[0m\u001b[1;33m,\u001b[0m \u001b[1;34m\"rb\"\u001b[0m\u001b[1;33m,\u001b[0m \u001b[0mstorage_options\u001b[0m\u001b[1;33m=\u001b[0m\u001b[0mstorage_options\u001b[0m\u001b[1;33m,\u001b[0m \u001b[0mis_text\u001b[0m\u001b[1;33m=\u001b[0m\u001b[1;32mFalse\u001b[0m\u001b[1;33m\u001b[0m\u001b[1;33m\u001b[0m\u001b[0m\n\u001b[0;32m   1072\u001b[0m     ) as handle:\n",
      "\u001b[1;32m~\\anaconda3\\lib\\site-packages\\pandas\\io\\common.py\u001b[0m in \u001b[0;36mget_handle\u001b[1;34m(path_or_buf, mode, encoding, compression, memory_map, is_text, errors, storage_options)\u001b[0m\n\u001b[0;32m    708\u001b[0m         \u001b[1;32melse\u001b[0m\u001b[1;33m:\u001b[0m\u001b[1;33m\u001b[0m\u001b[1;33m\u001b[0m\u001b[0m\n\u001b[0;32m    709\u001b[0m             \u001b[1;31m# Binary mode\u001b[0m\u001b[1;33m\u001b[0m\u001b[1;33m\u001b[0m\u001b[1;33m\u001b[0m\u001b[0m\n\u001b[1;32m--> 710\u001b[1;33m             \u001b[0mhandle\u001b[0m \u001b[1;33m=\u001b[0m \u001b[0mopen\u001b[0m\u001b[1;33m(\u001b[0m\u001b[0mhandle\u001b[0m\u001b[1;33m,\u001b[0m \u001b[0mioargs\u001b[0m\u001b[1;33m.\u001b[0m\u001b[0mmode\u001b[0m\u001b[1;33m)\u001b[0m\u001b[1;33m\u001b[0m\u001b[1;33m\u001b[0m\u001b[0m\n\u001b[0m\u001b[0;32m    711\u001b[0m         \u001b[0mhandles\u001b[0m\u001b[1;33m.\u001b[0m\u001b[0mappend\u001b[0m\u001b[1;33m(\u001b[0m\u001b[0mhandle\u001b[0m\u001b[1;33m)\u001b[0m\u001b[1;33m\u001b[0m\u001b[1;33m\u001b[0m\u001b[0m\n\u001b[0;32m    712\u001b[0m \u001b[1;33m\u001b[0m\u001b[0m\n",
      "\u001b[1;31mFileNotFoundError\u001b[0m: [Errno 2] No such file or directory: 'BANCO QUADRIL - dezembro 2021.xlsx'"
     ]
    }
   ],
   "source": [
    "import pandas as pd #data frames\n",
    "import numpy as np #matematica\n",
    "\n",
    "base = pd.read_excel('BANCO QUADRIL - dezembro 2021.xlsx')\n",
    "\n",
    "base.head()"
   ]
  },
  {
   "cell_type": "code",
   "execution_count": null,
   "id": "4379209e",
   "metadata": {},
   "outputs": [],
   "source": [
    "display(base.columns)\n",
    "display(base.shape)"
   ]
  },
  {
   "cell_type": "code",
   "execution_count": null,
   "id": "31d346e8",
   "metadata": {},
   "outputs": [],
   "source": [
    "base.describe()"
   ]
  },
  {
   "cell_type": "code",
   "execution_count": null,
   "id": "afcc00cd",
   "metadata": {},
   "outputs": [],
   "source": [
    "base.info()"
   ]
  },
  {
   "cell_type": "code",
   "execution_count": null,
   "id": "1a73d743",
   "metadata": {},
   "outputs": [],
   "source": [
    "for i in base.columns:\n",
    "    if base[i].dtype == \"object\":\n",
    "        print(\"===>\", i, \"<===\")\n",
    "        print(base[i].unique())"
   ]
  },
  {
   "cell_type": "code",
   "execution_count": null,
   "id": "db89675e",
   "metadata": {},
   "outputs": [],
   "source": [
    "df = base.copy()"
   ]
  },
  {
   "cell_type": "markdown",
   "id": "ba07df07",
   "metadata": {},
   "source": [
    "# PRÉ PROCESSAMENTOS:"
   ]
  },
  {
   "cell_type": "code",
   "execution_count": null,
   "id": "bcc2a42f",
   "metadata": {},
   "outputs": [],
   "source": [
    "#removendo espaços em branco no inicio e fim das colunas e atributos\n",
    "df.columns = base.columns.str.strip()\n",
    "\n",
    "for i in df.columns:\n",
    "    try:\n",
    "        df[i] = df[i].apply(lambda x: x.strip())\n",
    "    except:\n",
    "        continue "
   ]
  },
  {
   "cell_type": "code",
   "execution_count": null,
   "id": "1b37d975",
   "metadata": {},
   "outputs": [],
   "source": [
    "#df['Doença cardíaca'].unique()\n",
    "df['Doença cardíaca'] = df['Doença cardíaca'].replace({'Sim':'sim'},regex=True)\n",
    "\n",
    "#ASSA\n",
    "df['asa'] = df['asa'].replace({4:3}, regex=True)\n",
    "\n",
    "#GERALPERI\n",
    "df.drop(df[df['tecnica'] == 'geralperi'].index, inplace=True)\n",
    "\n",
    "#LIQUIDO\n",
    "df['liq'] = (df['líquidos total']/df['peso'])/(df['tempo cirúrgico (min)']/60)\n",
    "\n",
    "#MUDANDO O NOME DA COLUNA\n",
    "df.rename(columns={'TEMPO (DIAS) ANTES DA CIRURGIA':'priorday', 'hipotensão no IO > de 20%?':'hipo',\n",
    "                  'ELETIVA /URGENCIA':'ELETIVA_URGENCIA', 'AVC prévio':'AVC_previo',\n",
    "                  'Doença cardíaca':'Doenca_cardiaca', 'protocolo de hipotermia':'protocolo_de_hipotermia'}, inplace = True)"
   ]
  },
  {
   "cell_type": "markdown",
   "id": "e0a7a789",
   "metadata": {},
   "source": [
    "# TESTE 1:"
   ]
  },
  {
   "cell_type": "code",
   "execution_count": 4,
   "id": "87984241",
   "metadata": {},
   "outputs": [
    {
     "ename": "NameError",
     "evalue": "name 'df_1' is not defined",
     "output_type": "error",
     "traceback": [
      "\u001b[1;31m---------------------------------------------------------------------------\u001b[0m",
      "\u001b[1;31mNameError\u001b[0m                                 Traceback (most recent call last)",
      "\u001b[1;32m~\\AppData\\Local\\Temp/ipykernel_7160/2198641303.py\u001b[0m in \u001b[0;36m<module>\u001b[1;34m\u001b[0m\n\u001b[0;32m      1\u001b[0m \u001b[1;31m#df_1 = df[['Ano','idade','sexo','asa','ELETIVA_URGENCIA','AVC_previo','tabagismo','Doenca_cardiaca','peso','priorday','dm','has','DRC','tecnica','geral','tipo','DVA','sangramento','Transamin','transfusão','hipotermia','protocolo_de_hipotermia','liq','hipo']]\u001b[0m\u001b[1;33m\u001b[0m\u001b[1;33m\u001b[0m\u001b[1;33m\u001b[0m\u001b[0m\n\u001b[0;32m      2\u001b[0m \u001b[1;32mimport\u001b[0m \u001b[0mpandas\u001b[0m \u001b[1;32mas\u001b[0m \u001b[0mpd\u001b[0m\u001b[1;33m\u001b[0m\u001b[1;33m\u001b[0m\u001b[0m\n\u001b[1;32m----> 3\u001b[1;33m \u001b[0mdf_1\u001b[0m\u001b[1;33m.\u001b[0m\u001b[0mto_excel\u001b[0m\u001b[1;33m(\u001b[0m\u001b[1;34m'BASE_TESTE_1.xlsx'\u001b[0m\u001b[1;33m,\u001b[0m \u001b[0mindex\u001b[0m\u001b[1;33m=\u001b[0m\u001b[1;32mFalse\u001b[0m\u001b[1;33m)\u001b[0m\u001b[1;33m\u001b[0m\u001b[1;33m\u001b[0m\u001b[0m\n\u001b[0m",
      "\u001b[1;31mNameError\u001b[0m: name 'df_1' is not defined"
     ]
    }
   ],
   "source": [
    "#df_1 = df[['Ano','idade','sexo','asa','ELETIVA_URGENCIA','AVC_previo','tabagismo','Doenca_cardiaca','peso','priorday','dm','has','DRC','tecnica','geral','tipo','DVA','sangramento','Transamin','transfusão','hipotermia','protocolo_de_hipotermia','liq','hipo']]\n",
    "\n",
    "df_1.to_excel('BASE_TESTE_1.xlsx', index=False)"
   ]
  },
  {
   "cell_type": "code",
   "execution_count": 5,
   "id": "313f1031",
   "metadata": {},
   "outputs": [
    {
     "data": {
      "text/html": [
       "<div>\n",
       "<style scoped>\n",
       "    .dataframe tbody tr th:only-of-type {\n",
       "        vertical-align: middle;\n",
       "    }\n",
       "\n",
       "    .dataframe tbody tr th {\n",
       "        vertical-align: top;\n",
       "    }\n",
       "\n",
       "    .dataframe thead th {\n",
       "        text-align: right;\n",
       "    }\n",
       "</style>\n",
       "<table border=\"1\" class=\"dataframe\">\n",
       "  <thead>\n",
       "    <tr style=\"text-align: right;\">\n",
       "      <th></th>\n",
       "      <th>Ano</th>\n",
       "      <th>idade</th>\n",
       "      <th>sexo</th>\n",
       "      <th>asa</th>\n",
       "      <th>ELETIVA_URGENCIA</th>\n",
       "      <th>AVC_previo</th>\n",
       "      <th>tabagismo</th>\n",
       "      <th>Doenca_cardiaca</th>\n",
       "      <th>peso</th>\n",
       "      <th>priorday</th>\n",
       "      <th>...</th>\n",
       "      <th>geral</th>\n",
       "      <th>tipo</th>\n",
       "      <th>DVA</th>\n",
       "      <th>sangramento</th>\n",
       "      <th>Transamin</th>\n",
       "      <th>transfusão</th>\n",
       "      <th>hipotermia</th>\n",
       "      <th>protocolo_de_hipotermia</th>\n",
       "      <th>liq</th>\n",
       "      <th>hipo</th>\n",
       "    </tr>\n",
       "  </thead>\n",
       "  <tbody>\n",
       "    <tr>\n",
       "      <th>0</th>\n",
       "      <td>2016</td>\n",
       "      <td>88</td>\n",
       "      <td>F</td>\n",
       "      <td>2</td>\n",
       "      <td>2</td>\n",
       "      <td>não</td>\n",
       "      <td>sim</td>\n",
       "      <td>não</td>\n",
       "      <td>49.0</td>\n",
       "      <td>1.0</td>\n",
       "      <td>...</td>\n",
       "      <td>não</td>\n",
       "      <td>bupi hiper</td>\n",
       "      <td>não</td>\n",
       "      <td>não</td>\n",
       "      <td>não</td>\n",
       "      <td>não</td>\n",
       "      <td>sim</td>\n",
       "      <td>não aplicado</td>\n",
       "      <td>11.479592</td>\n",
       "      <td>sim</td>\n",
       "    </tr>\n",
       "    <tr>\n",
       "      <th>1</th>\n",
       "      <td>2016</td>\n",
       "      <td>98</td>\n",
       "      <td>F</td>\n",
       "      <td>3</td>\n",
       "      <td>2</td>\n",
       "      <td>não</td>\n",
       "      <td>não</td>\n",
       "      <td>não</td>\n",
       "      <td>72.0</td>\n",
       "      <td>2.0</td>\n",
       "      <td>...</td>\n",
       "      <td>inalatoria</td>\n",
       "      <td>hipobarica</td>\n",
       "      <td>não</td>\n",
       "      <td>não</td>\n",
       "      <td>não</td>\n",
       "      <td>não</td>\n",
       "      <td>sim</td>\n",
       "      <td>não aplicado</td>\n",
       "      <td>7.575758</td>\n",
       "      <td>sim</td>\n",
       "    </tr>\n",
       "    <tr>\n",
       "      <th>2</th>\n",
       "      <td>2016</td>\n",
       "      <td>79</td>\n",
       "      <td>F</td>\n",
       "      <td>2</td>\n",
       "      <td>1</td>\n",
       "      <td>não</td>\n",
       "      <td>não</td>\n",
       "      <td>não</td>\n",
       "      <td>79.0</td>\n",
       "      <td>1.0</td>\n",
       "      <td>...</td>\n",
       "      <td>não</td>\n",
       "      <td>bupi hiper</td>\n",
       "      <td>sim</td>\n",
       "      <td>não</td>\n",
       "      <td>não</td>\n",
       "      <td>não</td>\n",
       "      <td>não</td>\n",
       "      <td>não aplicado</td>\n",
       "      <td>10.849910</td>\n",
       "      <td>sim</td>\n",
       "    </tr>\n",
       "    <tr>\n",
       "      <th>3</th>\n",
       "      <td>2016</td>\n",
       "      <td>47</td>\n",
       "      <td>F</td>\n",
       "      <td>1</td>\n",
       "      <td>1</td>\n",
       "      <td>não</td>\n",
       "      <td>não</td>\n",
       "      <td>não</td>\n",
       "      <td>100.0</td>\n",
       "      <td>1.0</td>\n",
       "      <td>...</td>\n",
       "      <td>não</td>\n",
       "      <td>bupi hiper</td>\n",
       "      <td>não</td>\n",
       "      <td>não</td>\n",
       "      <td>sim</td>\n",
       "      <td>não</td>\n",
       "      <td>sim</td>\n",
       "      <td>aplicado</td>\n",
       "      <td>2.117647</td>\n",
       "      <td>não</td>\n",
       "    </tr>\n",
       "    <tr>\n",
       "      <th>4</th>\n",
       "      <td>2016</td>\n",
       "      <td>61</td>\n",
       "      <td>M</td>\n",
       "      <td>1</td>\n",
       "      <td>2</td>\n",
       "      <td>não</td>\n",
       "      <td>não</td>\n",
       "      <td>não</td>\n",
       "      <td>85.0</td>\n",
       "      <td>1.0</td>\n",
       "      <td>...</td>\n",
       "      <td>venosa</td>\n",
       "      <td>bupi hiper</td>\n",
       "      <td>não</td>\n",
       "      <td>não</td>\n",
       "      <td>não</td>\n",
       "      <td>não</td>\n",
       "      <td>sim</td>\n",
       "      <td>não aplicado</td>\n",
       "      <td>4.411765</td>\n",
       "      <td>não</td>\n",
       "    </tr>\n",
       "  </tbody>\n",
       "</table>\n",
       "<p>5 rows × 24 columns</p>\n",
       "</div>"
      ],
      "text/plain": [
       "    Ano  idade sexo  asa  ELETIVA_URGENCIA AVC_previo tabagismo  \\\n",
       "0  2016     88    F    2                 2        não       sim   \n",
       "1  2016     98    F    3                 2        não       não   \n",
       "2  2016     79    F    2                 1        não       não   \n",
       "3  2016     47    F    1                 1        não       não   \n",
       "4  2016     61    M    1                 2        não       não   \n",
       "\n",
       "  Doenca_cardiaca   peso  priorday  ...       geral        tipo  DVA  \\\n",
       "0             não   49.0       1.0  ...         não  bupi hiper  não   \n",
       "1             não   72.0       2.0  ...  inalatoria  hipobarica  não   \n",
       "2             não   79.0       1.0  ...         não  bupi hiper  sim   \n",
       "3             não  100.0       1.0  ...         não  bupi hiper  não   \n",
       "4             não   85.0       1.0  ...      venosa  bupi hiper  não   \n",
       "\n",
       "  sangramento Transamin transfusão hipotermia protocolo_de_hipotermia  \\\n",
       "0         não       não        não        sim            não aplicado   \n",
       "1         não       não        não        sim            não aplicado   \n",
       "2         não       não        não        não            não aplicado   \n",
       "3         não       sim        não        sim                aplicado   \n",
       "4         não       não        não        sim            não aplicado   \n",
       "\n",
       "         liq hipo  \n",
       "0  11.479592  sim  \n",
       "1   7.575758  sim  \n",
       "2  10.849910  sim  \n",
       "3   2.117647  não  \n",
       "4   4.411765  não  \n",
       "\n",
       "[5 rows x 24 columns]"
      ]
     },
     "execution_count": 5,
     "metadata": {},
     "output_type": "execute_result"
    }
   ],
   "source": [
    "import pandas as pd \n",
    "\n",
    "df_1 = pd.read_excel('BASE_TESTE_1.xlsx')\n",
    "df_1.head()"
   ]
  },
  {
   "cell_type": "code",
   "execution_count": 6,
   "id": "78289408",
   "metadata": {},
   "outputs": [
    {
     "name": "stdout",
     "output_type": "stream",
     "text": [
      "base$sexo = factor(base$sexo, levels=c(['F' 'M']), labels=c([0, 1]))\n",
      "base$AVC_previo = factor(base$AVC_previo, levels=c(['não' 'sim']), labels=c([0, 1]))\n",
      "base$tabagismo = factor(base$tabagismo, levels=c(['sim' 'não']), labels=c([0, 1]))\n",
      "base$Doenca_cardiaca = factor(base$Doenca_cardiaca, levels=c(['não' 'sim']), labels=c([0, 1]))\n",
      "base$dm = factor(base$dm, levels=c(['sim' 'não']), labels=c([0, 1]))\n",
      "base$has = factor(base$has, levels=c(['não' 'sim']), labels=c([0, 1]))\n",
      "base$DRC = factor(base$DRC, levels=c(['não' 'sim']), labels=c([0, 1]))\n",
      "base$tecnica = factor(base$tecnica, levels=c(['raqui' 'geralraqui' 'geral']), labels=c([0, 1, 2]))\n",
      "base$geral = factor(base$geral, levels=c(['não' 'inalatoria' 'venosa' nan]), labels=c([0, 1, 2, 3]))\n",
      "base$tipo = factor(base$tipo, levels=c(['bupi hiper' 'hipobarica' nan]), labels=c([0, 1, 2]))\n",
      "base$DVA = factor(base$DVA, levels=c(['não' 'sim']), labels=c([0, 1]))\n",
      "base$sangramento = factor(base$sangramento, levels=c(['não' 'sim']), labels=c([0, 1]))\n",
      "base$Transamin = factor(base$Transamin, levels=c(['não' 'sim']), labels=c([0, 1]))\n",
      "base$transfusão = factor(base$transfusão, levels=c(['não' 'sim']), labels=c([0, 1]))\n",
      "base$hipotermia = factor(base$hipotermia, levels=c(['sim' 'não' 'temperatura não aferida']), labels=c([0, 1, 2]))\n",
      "base$protocolo_de_hipotermia = factor(base$protocolo_de_hipotermia, levels=c(['não aplicado' 'aplicado' nan]), labels=c([0, 1, 2]))\n",
      "base$hipo = factor(base$hipo, levels=c(['sim' 'não']), labels=c([0, 1]))\n"
     ]
    }
   ],
   "source": [
    "for i in df_1.columns:\n",
    "    if df_1[i].dtype == \"object\":\n",
    "        for t in df_1[i].unique():\n",
    "            lista = []\n",
    "            count = 0\n",
    "            for o in df_1[i].unique():\n",
    "                lista.append(count)\n",
    "                count += 1\n",
    "        print(\"base$\"+str(i)+\" = factor(base$\"+str(i)+\", levels=c(\"+str(df_1[i].unique())+\"), labels=c(\"+str(lista)+\"))\")"
   ]
  },
  {
   "cell_type": "markdown",
   "id": "ebfaf39c",
   "metadata": {},
   "source": [
    "### HIPOTENSÃO:"
   ]
  },
  {
   "cell_type": "code",
   "execution_count": null,
   "id": "3d3c2a69",
   "metadata": {},
   "outputs": [],
   "source": [
    "base$sexo = factor(base$sexo, levels=c('F', 'M'), labels=c(0, 1))\n",
    "base$AVC_previo = factor(base$AVC_previo, levels=c('não', 'sim'), labels=c(0, 1))\n",
    "base$tabagismo = factor(base$tabagismo, levels=c('não', 'sim'), labels=c(0, 1))\n",
    "base$Doenca_cardiaca = factor(base$Doenca_cardiaca, levels=c('não', 'sim'), labels=c(0, 1))\n",
    "base$dm = factor(base$dm, levels=c('não', 'sim'), labels=c(0, 1))\n",
    "base$has = factor(base$has, levels=c('não', 'sim'), labels=c(0, 1))\n",
    "base$DRC = factor(base$DRC, levels=c('não', 'sim'), labels=c(0, 1))\n",
    "base$tecnica = factor(base$tecnica, levels=c('raqui', 'geralraqui', 'geral'), labels=c(0, 1, 2))\n",
    "base$geral = factor(base$geral, levels=c('não', 'inalatoria', 'venosa'), labels=c(0, 1, 2))\n",
    "base$tipo = factor(base$tipo, levels=c('bupi hiper', 'hipobarica'), labels=c(0, 1))\n",
    "base$DVA = factor(base$DVA, levels=c('não', 'sim'), labels=c(0, 1))\n",
    "base$sangramento = factor(base$sangramento, levels=c('não', 'sim'), labels=c(0, 1))\n",
    "base$Transamin = factor(base$Transamin, levels=c('não', 'sim'), labels=c(0, 1))\n",
    "base$transfusão = factor(base$transfusão, levels=c('não', 'sim'), labels=c(0, 1))\n",
    "base$hipotermia = factor(base$hipotermia, levels=c('sim', 'não', 'temperatura não aferida'), labels=c(0, 1, 2))\n",
    "base$protocolo_de_hipotermia = factor(base$protocolo_de_hipotermia, levels=c('não aplicado', 'aplicado'), labels=c(0, 1))\n",
    "base$hipo = factor(base$hipo, levels=c('não', 'sim'), labels=c([0, 1]))"
   ]
  },
  {
   "cell_type": "code",
   "execution_count": null,
   "id": "b75365a6",
   "metadata": {},
   "outputs": [],
   "source": []
  },
  {
   "cell_type": "code",
   "execution_count": null,
   "id": "2f996c86",
   "metadata": {},
   "outputs": [],
   "source": []
  },
  {
   "cell_type": "code",
   "execution_count": null,
   "id": "7ee5e8e7",
   "metadata": {},
   "outputs": [],
   "source": []
  },
  {
   "cell_type": "code",
   "execution_count": null,
   "id": "73dd0bc4",
   "metadata": {},
   "outputs": [],
   "source": []
  },
  {
   "cell_type": "code",
   "execution_count": null,
   "id": "d6b00218",
   "metadata": {},
   "outputs": [],
   "source": []
  },
  {
   "cell_type": "code",
   "execution_count": null,
   "id": "342570d3",
   "metadata": {},
   "outputs": [],
   "source": []
  },
  {
   "cell_type": "code",
   "execution_count": null,
   "id": "ab240f6d",
   "metadata": {},
   "outputs": [],
   "source": []
  },
  {
   "cell_type": "code",
   "execution_count": null,
   "id": "4c66d2d0",
   "metadata": {},
   "outputs": [],
   "source": []
  }
 ],
 "metadata": {
  "kernelspec": {
   "display_name": "Python 3 (ipykernel)",
   "language": "python",
   "name": "python3"
  },
  "language_info": {
   "codemirror_mode": {
    "name": "ipython",
    "version": 3
   },
   "file_extension": ".py",
   "mimetype": "text/x-python",
   "name": "python",
   "nbconvert_exporter": "python",
   "pygments_lexer": "ipython3",
   "version": "3.8.8"
  }
 },
 "nbformat": 4,
 "nbformat_minor": 5
}
